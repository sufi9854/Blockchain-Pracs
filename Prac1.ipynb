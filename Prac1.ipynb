{
  "nbformat": 4,
  "nbformat_minor": 0,
  "metadata": {
    "colab": {
      "provenance": [],
      "authorship_tag": "ABX9TyMczX8XqDTN0ktNmp0Ksi2T",
      "include_colab_link": true
    },
    "kernelspec": {
      "name": "python3",
      "display_name": "Python 3"
    },
    "language_info": {
      "name": "python"
    }
  },
  "cells": [
    {
      "cell_type": "markdown",
      "metadata": {
        "id": "view-in-github",
        "colab_type": "text"
      },
      "source": [
        "<a href=\"https://colab.research.google.com/github/sufi9854/Blockchain-Pracs/blob/main/Prac1.ipynb\" target=\"_parent\"><img src=\"https://colab.research.google.com/assets/colab-badge.svg\" alt=\"Open In Colab\"/></a>"
      ]
    },
    {
      "cell_type": "code",
      "source": [
        "# Install cryptography if not already installed\n",
        "!pip install cryptography\n",
        "\n",
        "from cryptography.hazmat.primitives.asymmetric import rsa, padding\n",
        "from cryptography.hazmat.primitives import serialization, hashes\n",
        "import base64\n",
        "\n",
        "# Function to generate RSA key pairs\n",
        "def generate_rsa_key_pair():\n",
        "    private_key = rsa.generate_private_key(public_exponent=65537, key_size=2048)\n",
        "    public_key = private_key.public_key()\n",
        "    return private_key, public_key\n",
        "\n",
        "# Function to serialize keys\n",
        "def serialize_keys(private_key, public_key):\n",
        "    priv_pem = private_key.private_bytes(\n",
        "        encoding=serialization.Encoding.PEM,\n",
        "        format=serialization.PrivateFormat.PKCS8,\n",
        "        encryption_algorithm=serialization.NoEncryption()\n",
        "    )\n",
        "    pub_pem = public_key.public_bytes(\n",
        "        encoding=serialization.Encoding.PEM,\n",
        "        format=serialization.PublicFormat.SubjectPublicKeyInfo\n",
        "    )\n",
        "    return priv_pem, pub_pem\n",
        "\n",
        "# Encrypt a message using public key\n",
        "def encrypt_message(public_key, message):\n",
        "    encrypted = public_key.encrypt(\n",
        "        message.encode(),\n",
        "        padding.OAEP(\n",
        "            mgf=padding.MGF1(algorithm=hashes.SHA256()),\n",
        "            algorithm=hashes.SHA256(),\n",
        "            label=None\n",
        "        )\n",
        "    )\n",
        "    return base64.b64encode(encrypted).decode()\n",
        "\n",
        "# Decrypt a message using private key\n",
        "def decrypt_message(private_key, encrypted_message):\n",
        "    decrypted = private_key.decrypt(\n",
        "        base64.b64decode(encrypted_message),\n",
        "        padding.OAEP(\n",
        "            mgf=padding.MGF1(algorithm=hashes.SHA256()),\n",
        "            algorithm=hashes.SHA256(),\n",
        "            label=None\n",
        "        )\n",
        "    )\n",
        "    return decrypted.decode()\n",
        "\n",
        "# Simulating two users: Alice and Bob\n",
        "print(\"Generating RSA key pairs for Alice and Bob...\")\n",
        "alice_private, alice_public = generate_rsa_key_pair()\n",
        "bob_private, bob_public = generate_rsa_key_pair()\n",
        "\n",
        "# Alice sends a message to Bob\n",
        "message_from_alice = \"Hi Bob, this is Alice. The message is secure!\"\n",
        "print(\"\\nOriginal message from Alice:\", message_from_alice)\n",
        "\n",
        "encrypted_message = encrypt_message(bob_public, message_from_alice)\n",
        "print(\"Encrypted message (sent to Bob):\", encrypted_message)\n",
        "\n",
        "# Bob decrypts the message\n",
        "decrypted_message = decrypt_message(bob_private, encrypted_message)\n",
        "print(\"Decrypted message by Bob:\", decrypted_message)\n"
      ],
      "metadata": {
        "colab": {
          "base_uri": "https://localhost:8080/"
        },
        "id": "-aF1905fbBBX",
        "outputId": "3d91430b-ed04-4f79-bd1a-6471632adfd0"
      },
      "execution_count": 1,
      "outputs": [
        {
          "output_type": "stream",
          "name": "stdout",
          "text": [
            "Requirement already satisfied: cryptography in /usr/local/lib/python3.11/dist-packages (43.0.3)\n",
            "Requirement already satisfied: cffi>=1.12 in /usr/local/lib/python3.11/dist-packages (from cryptography) (1.17.1)\n",
            "Requirement already satisfied: pycparser in /usr/local/lib/python3.11/dist-packages (from cffi>=1.12->cryptography) (2.22)\n",
            "Generating RSA key pairs for Alice and Bob...\n",
            "\n",
            "Original message from Alice: Hi Bob, this is Alice. The message is secure!\n",
            "Encrypted message (sent to Bob): Rjd5ARo20ekYdFWV/VLb17k+gum37L7DUvH/tkZQVu1xK5MVlOxvq9DxuLOo0d2hcHv9kFdZuH7QnJ0QRorqJsCjzJiP9X82cYmp6UqGORe1/sxNHOYUpbI8MlQzPAkCj+wD3M0ATMLjUz8PDfbYD1jPOkTDpQM/d9X97Q40nV4Bp0QJ6Fqz3RKmYsofdnnhwzdbIulYAzBySpRPbPeIUeHTjNjHBa7qQt3CPo1Ur2TKA7ZGj8C5Q9j+aX3tur6kCLey4MeSlvRlP9Gq0zOKUhC1/n43IAUTS59OwYfM/r9NeDTpA/By24yzOC027K62IWnMgNvteGL2ExEyboCV4g==\n",
            "Decrypted message by Bob: Hi Bob, this is Alice. The message is secure!\n"
          ]
        }
      ]
    }
  ]
}