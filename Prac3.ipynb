{
  "nbformat": 4,
  "nbformat_minor": 0,
  "metadata": {
    "colab": {
      "provenance": [],
      "authorship_tag": "ABX9TyO8uH/mG9R3RIAk8b1zsrjB",
      "include_colab_link": true
    },
    "kernelspec": {
      "name": "python3",
      "display_name": "Python 3"
    },
    "language_info": {
      "name": "python"
    }
  },
  "cells": [
    {
      "cell_type": "markdown",
      "metadata": {
        "id": "view-in-github",
        "colab_type": "text"
      },
      "source": [
        "<a href=\"https://colab.research.google.com/github/sufi9854/Blockchain-Pracs/blob/main/Prac3.ipynb\" target=\"_parent\"><img src=\"https://colab.research.google.com/assets/colab-badge.svg\" alt=\"Open In Colab\"/></a>"
      ]
    },
    {
      "cell_type": "markdown",
      "source": [
        "P1C: Create a Python class named Transaction with attributes for sender, receiver, and amount. Implement a method within the class to transfer money from the sender's account to the receiver's account.."
      ],
      "metadata": {
        "id": "jc9uQhs6ctwj"
      }
    },
    {
      "cell_type": "code",
      "source": [
        "# Simulate user accounts with balances\n",
        "accounts = {\n",
        "    \"Alice\": 500,\n",
        "    \"Bob\": 300,\n",
        "    \"Charlie\": 200\n",
        "}\n",
        "\n",
        "# Transaction class definition\n",
        "class Transaction:\n",
        "    def __init__(self, sender, receiver, amount):\n",
        "        self.sender = sender\n",
        "        self.receiver = receiver\n",
        "        self.amount = amount\n",
        "\n",
        "    def transfer(self):\n",
        "        # Check if users exist\n",
        "        if self.sender not in accounts or self.receiver not in accounts:\n",
        "            print(\"❌ Either sender or receiver account doesn't exist.\")\n",
        "            return\n",
        "\n",
        "        # Check for sufficient funds\n",
        "        if accounts[self.sender] < self.amount:\n",
        "            print(f\"❌ Insufficient funds in {self.sender}'s account.\")\n",
        "            return\n",
        "\n",
        "        # Perform transfer\n",
        "        accounts[self.sender] -= self.amount\n",
        "        accounts[self.receiver] += self.amount\n",
        "        print(f\"✅ {self.amount} transferred from {self.sender} to {self.receiver}.\")\n",
        "\n",
        "# Example usage\n",
        "print(\"💰 Initial account balances:\", accounts)\n",
        "\n",
        "# Create transactions\n",
        "t1 = Transaction(\"Alice\", \"Bob\", 100)\n",
        "t1.transfer()\n",
        "\n",
        "t2 = Transaction(\"Bob\", \"Charlie\", 50)\n",
        "t2.transfer()\n",
        "\n",
        "t3 = Transaction(\"Charlie\", \"Alice\", 300)  # This should fail due to insufficient funds\n",
        "t3.transfer()\n",
        "\n",
        "print(\"\\n💼 Final account balances:\", accounts)"
      ],
      "metadata": {
        "colab": {
          "base_uri": "https://localhost:8080/"
        },
        "id": "jltKiNzlcva6",
        "outputId": "33a31fee-dbe5-4083-9389-651ac12e5a3a"
      },
      "execution_count": 3,
      "outputs": [
        {
          "output_type": "stream",
          "name": "stdout",
          "text": [
            "💰 Initial account balances: {'Alice': 500, 'Bob': 300, 'Charlie': 200}\n",
            "✅ 100 transferred from Alice to Bob.\n",
            "✅ 50 transferred from Bob to Charlie.\n",
            "❌ Insufficient funds in Charlie's account.\n",
            "\n",
            "💼 Final account balances: {'Alice': 400, 'Bob': 350, 'Charlie': 250}\n"
          ]
        }
      ]
    }
  ]
}