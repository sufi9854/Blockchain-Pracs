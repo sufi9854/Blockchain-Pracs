{
  "nbformat": 4,
  "nbformat_minor": 0,
  "metadata": {
    "colab": {
      "provenance": [],
      "authorship_tag": "ABX9TyMHiQouP1g5UhzL2DtSxQs3",
      "include_colab_link": true
    },
    "kernelspec": {
      "name": "python3",
      "display_name": "Python 3"
    },
    "language_info": {
      "name": "python"
    }
  },
  "cells": [
    {
      "cell_type": "markdown",
      "metadata": {
        "id": "view-in-github",
        "colab_type": "text"
      },
      "source": [
        "<a href=\"https://colab.research.google.com/github/sufi9854/Blockchain-Pracs/blob/main/Prac4.ipynb\" target=\"_parent\"><img src=\"https://colab.research.google.com/assets/colab-badge.svg\" alt=\"Open In Colab\"/></a>"
      ]
    },
    {
      "cell_type": "markdown",
      "source": [
        "P1D: Implement a function to add new blocks to the miner and dump the blockchain."
      ],
      "metadata": {
        "id": "-a8hVntXdKIB"
      }
    },
    {
      "cell_type": "code",
      "source": [
        "import hashlib\n",
        "import time\n",
        "import json\n",
        "\n",
        "# Block class\n",
        "class Block:\n",
        "    def __init__(self, index, previous_hash, timestamp, data, nonce=0):\n",
        "        self.index = index\n",
        "        self.previous_hash = previous_hash\n",
        "        self.timestamp = timestamp\n",
        "        self.data = data\n",
        "        self.nonce = nonce\n",
        "        self.hash = self.calculate_hash()\n",
        "\n",
        "    def calculate_hash(self):\n",
        "        block_string = f\"{self.index}{self.previous_hash}{self.timestamp}{json.dumps(self.data)}{self.nonce}\"\n",
        "        return hashlib.sha256(block_string.encode()).hexdigest()\n",
        "\n",
        "# Blockchain class\n",
        "class Blockchain:\n",
        "    def __init__(self):\n",
        "        self.chain = [self.create_genesis_block()]\n",
        "        self.difficulty = 4  # Number of leading zeros in the hash\n",
        "\n",
        "    def create_genesis_block(self):\n",
        "        return Block(0, \"0\", time.time(), \"Genesis Block\")\n",
        "\n",
        "    def get_latest_block(self):\n",
        "        return self.chain[-1]\n",
        "\n",
        "    def mine_block(self, data):\n",
        "        previous_block = self.get_latest_block()\n",
        "        index = previous_block.index + 1\n",
        "        timestamp = time.time()\n",
        "        nonce = 0\n",
        "\n",
        "        print(f\"⛏️ Mining block #{index}...\")\n",
        "\n",
        "        new_block = Block(index, previous_block.hash, timestamp, data, nonce)\n",
        "        while not new_block.hash.startswith('0' * self.difficulty):\n",
        "            new_block.nonce += 1\n",
        "            new_block.hash = new_block.calculate_hash()\n",
        "\n",
        "        self.chain.append(new_block)\n",
        "        print(f\"✅ Block #{index} mined: {new_block.hash}\")\n",
        "\n",
        "    def dump_chain(self):\n",
        "        print(\"\\n📦 Blockchain Dump:\")\n",
        "        for block in self.chain:\n",
        "            print({\n",
        "                'Index': block.index,\n",
        "                'Previous Hash': block.previous_hash,\n",
        "                'Timestamp': time.strftime('%Y-%m-%d %H:%M:%S', time.localtime(block.timestamp)),\n",
        "                'Data': block.data,\n",
        "                'Nonce': block.nonce,\n",
        "                'Hash': block.hash\n",
        "            })\n",
        "\n",
        "# Create the blockchain\n",
        "my_blockchain = Blockchain()\n",
        "\n",
        "# Add (mine) blocks\n",
        "my_blockchain.mine_block({\"sender\": \"Alice\", \"receiver\": \"Bob\", \"amount\": 50})\n",
        "my_blockchain.mine_block({\"sender\": \"Bob\", \"receiver\": \"Charlie\", \"amount\": 25})\n",
        "my_blockchain.mine_block({\"sender\": \"Charlie\", \"receiver\": \"Alice\", \"amount\": 10})\n",
        "\n",
        "# Dump the entire blockchain\n",
        "my_blockchain.dump_chain()"
      ],
      "metadata": {
        "colab": {
          "base_uri": "https://localhost:8080/"
        },
        "id": "1gD7ERL6dKzA",
        "outputId": "78971b54-0425-44c0-b2bc-258f675a3ec8"
      },
      "execution_count": 4,
      "outputs": [
        {
          "output_type": "stream",
          "name": "stdout",
          "text": [
            "⛏️ Mining block #1...\n",
            "✅ Block #1 mined: 0000735fbdd3d6fae901d47300825411397408e6dab47864445fdfac9b435121\n",
            "⛏️ Mining block #2...\n",
            "✅ Block #2 mined: 0000fec0b1834c971e3ad65b0625ce2eb6acd6ed65543af180ed33826d017305\n",
            "⛏️ Mining block #3...\n",
            "✅ Block #3 mined: 0000d79c9a22ec5a6d3efc35289aa68f1e6a304a79aed867d2bdbbc1066195b5\n",
            "\n",
            "📦 Blockchain Dump:\n",
            "{'Index': 0, 'Previous Hash': '0', 'Timestamp': '2025-06-30 15:28:42', 'Data': 'Genesis Block', 'Nonce': 0, 'Hash': 'c8db7912155181b20f01e9d0df8a7ba323d78232ed2fe051122b36d5d4503c6d'}\n",
            "{'Index': 1, 'Previous Hash': 'c8db7912155181b20f01e9d0df8a7ba323d78232ed2fe051122b36d5d4503c6d', 'Timestamp': '2025-06-30 15:28:42', 'Data': {'sender': 'Alice', 'receiver': 'Bob', 'amount': 50}, 'Nonce': 68441, 'Hash': '0000735fbdd3d6fae901d47300825411397408e6dab47864445fdfac9b435121'}\n",
            "{'Index': 2, 'Previous Hash': '0000735fbdd3d6fae901d47300825411397408e6dab47864445fdfac9b435121', 'Timestamp': '2025-06-30 15:28:42', 'Data': {'sender': 'Bob', 'receiver': 'Charlie', 'amount': 25}, 'Nonce': 189545, 'Hash': '0000fec0b1834c971e3ad65b0625ce2eb6acd6ed65543af180ed33826d017305'}\n",
            "{'Index': 3, 'Previous Hash': '0000fec0b1834c971e3ad65b0625ce2eb6acd6ed65543af180ed33826d017305', 'Timestamp': '2025-06-30 15:28:44', 'Data': {'sender': 'Charlie', 'receiver': 'Alice', 'amount': 10}, 'Nonce': 32051, 'Hash': '0000d79c9a22ec5a6d3efc35289aa68f1e6a304a79aed867d2bdbbc1066195b5'}\n"
          ]
        }
      ]
    }
  ]
}