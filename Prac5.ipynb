{
  "nbformat": 4,
  "nbformat_minor": 0,
  "metadata": {
    "colab": {
      "provenance": [],
      "authorship_tag": "ABX9TyMiZ1MTtBXu0Ye2eOLdi788",
      "include_colab_link": true
    },
    "kernelspec": {
      "name": "python3",
      "display_name": "Python 3"
    },
    "language_info": {
      "name": "python"
    }
  },
  "cells": [
    {
      "cell_type": "markdown",
      "metadata": {
        "id": "view-in-github",
        "colab_type": "text"
      },
      "source": [
        "<a href=\"https://colab.research.google.com/github/sufi9854/Blockchain-Pracs/blob/main/Prac5.ipynb\" target=\"_parent\"><img src=\"https://colab.research.google.com/assets/colab-badge.svg\" alt=\"Open In Colab\"/></a>"
      ]
    },
    {
      "cell_type": "markdown",
      "source": [
        "P2A: Write a python program to demonstrate mining."
      ],
      "metadata": {
        "id": "-a8hVntXdKIB"
      }
    },
    {
      "cell_type": "code",
      "source": [
        "import hashlib\n",
        "import time\n",
        "\n",
        "# Define the mining function\n",
        "def mine_block(block_data, difficulty):\n",
        "    prefix_str = '0' * difficulty\n",
        "    nonce = 0\n",
        "    start_time = time.time()\n",
        "\n",
        "    print(\"⛏️ Starting mining...\")\n",
        "    while True:\n",
        "        text = f\"{block_data}{nonce}\"\n",
        "        hash_result = hashlib.sha256(text.encode()).hexdigest()\n",
        "        if hash_result.startswith(prefix_str):\n",
        "            end_time = time.time()\n",
        "            print(f\"✅ Block mined successfully!\")\n",
        "            print(f\"🔢 Nonce: {nonce}\")\n",
        "            print(f\"🔐 Hash: {hash_result}\")\n",
        "            print(f\"⏱️ Time taken: {end_time - start_time:.2f} seconds\")\n",
        "            break\n",
        "        nonce += 1\n",
        "\n",
        "# Example usage\n",
        "block_data = \"Alice pays Bob 10 BTC\"\n",
        "difficulty = 4  # Increase for higher difficulty\n",
        "\n",
        "mine_block(block_data, difficulty)"
      ],
      "metadata": {
        "colab": {
          "base_uri": "https://localhost:8080/"
        },
        "id": "0P-Nr7hddgc_",
        "outputId": "b031016a-0871-4fa5-a35f-e858810b6604"
      },
      "execution_count": 5,
      "outputs": [
        {
          "output_type": "stream",
          "name": "stdout",
          "text": [
            "⛏️ Starting mining...\n",
            "✅ Block mined successfully!\n",
            "🔢 Nonce: 2040\n",
            "🔐 Hash: 000077330197cd1a3f60c19a7990fa2b8ee23911e7d378d6e37d7d5d11d10b21\n",
            "⏱️ Time taken: 0.00 seconds\n"
          ]
        }
      ]
    }
  ]
}