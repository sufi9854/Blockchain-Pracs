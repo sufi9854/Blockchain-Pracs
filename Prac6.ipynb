{
  "nbformat": 4,
  "nbformat_minor": 0,
  "metadata": {
    "colab": {
      "provenance": [],
      "authorship_tag": "ABX9TyPc9DB23pdFJPwMUmA+XLoW",
      "include_colab_link": true
    },
    "kernelspec": {
      "name": "python3",
      "display_name": "Python 3"
    },
    "language_info": {
      "name": "python"
    }
  },
  "cells": [
    {
      "cell_type": "markdown",
      "metadata": {
        "id": "view-in-github",
        "colab_type": "text"
      },
      "source": [
        "<a href=\"https://colab.research.google.com/github/sufi9854/Blockchain-Pracs/blob/main/Prac6.ipynb\" target=\"_parent\"><img src=\"https://colab.research.google.com/assets/colab-badge.svg\" alt=\"Open In Colab\"/></a>"
      ]
    },
    {
      "cell_type": "markdown",
      "source": [
        "P2B: Demonstrate the use of the Bitcoin Core API to interact with a Bitcoin Core node."
      ],
      "metadata": {
        "id": "-a8hVntXdKIB"
      }
    },
    {
      "cell_type": "code",
      "source": [
        "from bitcoinrpc.authproxy import AuthServiceProxy, JSONRPCException\n",
        "\n",
        "# --- Replace these with your actual Bitcoin Core node's RPC credentials ---\n",
        "rpc_user = \"your_rpc_username\"\n",
        "rpc_password = \"your_rpc_password\"\n",
        "rpc_host = \"your_node_ip_or_hostname\"   # e.g., \"127.0.0.1\" or ngrok URL\n",
        "rpc_port = \"8332\"  # default port for mainnet (use 18332 for testnet)\n",
        "\n",
        "# Construct RPC connection URL\n",
        "rpc_url = f\"http://{rpc_user}:{rpc_password}@{rpc_host}:{rpc_port}\"\n",
        "\n",
        "# Connect to the node\n",
        "try:\n",
        "    rpc_connection = AuthServiceProxy(rpc_url)\n",
        "\n",
        "    # Fetch basic blockchain info\n",
        "    blockchain_info = rpc_connection.getblockchaininfo()\n",
        "    print(\"📘 Blockchain Info:\")\n",
        "    print(blockchain_info)\n",
        "\n",
        "    # Get wallet info (optional)\n",
        "    wallet_info = rpc_connection.getwalletinfo()\n",
        "    print(\"\\n👛 Wallet Info:\")\n",
        "    print(wallet_info)\n",
        "\n",
        "    # Get current block count\n",
        "    block_count = rpc_connection.getblockcount()\n",
        "    print(f\"\\n📦 Current block height: {block_count}\")\n",
        "\n",
        "except JSONRPCException as e:\n",
        "    print(f\"❌ RPC error: {e}\")\n",
        "except Exception as e:\n",
        "    print(f\"❌ Connection error: {e}\")"
      ],
      "metadata": {
        "colab": {
          "base_uri": "https://localhost:8080/"
        },
        "id": "02w3T7xK0VMa",
        "outputId": "1ff9b0d1-c54b-471e-fe6f-3406f62dc946"
      },
      "execution_count": 13,
      "outputs": [
        {
          "output_type": "stream",
          "name": "stdout",
          "text": [
            "❌ Connection error: [Errno -2] Name or service not known\n"
          ]
        }
      ]
    },
    {
      "cell_type": "code",
      "metadata": {
        "colab": {
          "base_uri": "https://localhost:8080/"
        },
        "id": "71afae69",
        "outputId": "76c8d4ce-4f7c-4446-cf63-7cb8d493adc3"
      },
      "source": [
        "!pip install python-bitcoinrpc"
      ],
      "execution_count": 10,
      "outputs": [
        {
          "output_type": "stream",
          "name": "stdout",
          "text": [
            "Collecting python-bitcoinrpc\n",
            "  Downloading python-bitcoinrpc-1.0.tar.gz (13 kB)\n",
            "  Preparing metadata (setup.py) ... \u001b[?25l\u001b[?25hdone\n",
            "Building wheels for collected packages: python-bitcoinrpc\n",
            "  Building wheel for python-bitcoinrpc (setup.py) ... \u001b[?25l\u001b[?25hdone\n",
            "  Created wheel for python-bitcoinrpc: filename=python_bitcoinrpc-1.0-py3-none-any.whl size=14239 sha256=6f3a8d62be7d5178d9d156fcb235c6a21e65d42b326616c9978a2fc2a67ca081\n",
            "  Stored in directory: /root/.cache/pip/wheels/96/5e/92/02c56182ea210a1a1c69959ee75949c150f9e5a678874c71e9\n",
            "Successfully built python-bitcoinrpc\n",
            "Installing collected packages: python-bitcoinrpc\n",
            "Successfully installed python-bitcoinrpc-1.0\n"
          ]
        }
      ]
    }
  ]
}