{
  "nbformat": 4,
  "nbformat_minor": 0,
  "metadata": {
    "colab": {
      "provenance": [],
      "authorship_tag": "ABX9TyONNVd5wECTgt7rd0SsWsSG",
      "include_colab_link": true
    },
    "kernelspec": {
      "name": "python3",
      "display_name": "Python 3"
    },
    "language_info": {
      "name": "python"
    }
  },
  "cells": [
    {
      "cell_type": "markdown",
      "metadata": {
        "id": "view-in-github",
        "colab_type": "text"
      },
      "source": [
        "<a href=\"https://colab.research.google.com/github/sufi9854/Blockchain-Pracs/blob/main/Prac8.ipynb\" target=\"_parent\"><img src=\"https://colab.research.google.com/assets/colab-badge.svg\" alt=\"Open In Colab\"/></a>"
      ]
    },
    {
      "cell_type": "code",
      "source": [
        "P3B: Write a Solidity program that demonstrates function overloading, mathematical functions, and cryptographic functions.\n",
        "\n",
        "// SPDX-License-Identifier: MIT\n",
        "pragma solidity ^0.8.0;\n",
        "\n",
        "contract FunctionDemo {\n",
        "    // Function Overloading\n",
        "    function getResult(uint a, uint b) public pure returns (uint) {\n",
        "        return a + b;\n",
        "    }\n",
        "\n",
        "    function getResult(uint a, uint b, uint c) public pure returns (uint) {\n",
        "        return a + b + c;\n",
        "    }\n",
        "\n",
        "    // Mathematical Functions\n",
        "    function mathOps(uint a, uint b) public pure returns (\n",
        "        uint sum,\n",
        "        uint diff,\n",
        "        uint prod,\n",
        "        uint quotient,\n",
        "        uint mod,\n",
        "        uint power\n",
        "    ) {\n",
        "        require(b != 0, \"Division by zero\");\n",
        "        sum = a + b;\n",
        "        diff = a - b;\n",
        "        prod = a * b;\n",
        "        quotient = a / b;\n",
        "        mod = a % b;\n",
        "        power = a ** b;\n",
        "    }\n",
        "\n",
        "    // Cryptographic Functions\n",
        "    function hashKeccak256(string memory input) public pure returns (bytes32) {\n",
        "        return keccak256(abi.encodePacked(input));\n",
        "    }\n",
        "\n",
        "    function hashSha256(string memory input) public pure returns (bytes32) {\n",
        "        return sha256(abi.encodePacked(input));\n",
        "    }\n",
        "\n",
        "    function hashRipemd160(string memory input) public pure returns (bytes20) {\n",
        "        return ripemd160(abi.encodePacked(input));\n",
        "    }\n",
        "}\n"
      ],
      "metadata": {
        "id": "8Ifkd9Ty5VW0"
      },
      "execution_count": null,
      "outputs": []
    }
  ]
}